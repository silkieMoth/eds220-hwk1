{
 "cells": [
  {
   "cell_type": "code",
   "execution_count": 1,
   "metadata": {
    "deletable": false,
    "editable": false
   },
   "outputs": [],
   "source": [
    "# Initialize Otter\n",
    "import otter\n",
    "grader = otter.Notebook(\"hwk1-task3-earthquakes.ipynb\")"
   ]
  },
  {
   "cell_type": "markdown",
   "metadata": {},
   "source": [
    "# Task 3: `pandas` fundamentals with earthquake data\n",
    "\n",
    "## Instructions\n",
    "- First, update the following cell to have a link to *your* Homework 1 GitHub repository:"
   ]
  },
  {
   "cell_type": "markdown",
   "metadata": {},
   "source": [
    "**UPDATE THIS LINK:**\n",
    "\n",
    "https://github.com/silkieMoth/eds220-hwk1"
   ]
  },
  {
   "cell_type": "markdown",
   "metadata": {},
   "source": [
    "- This task covers topics on the lessons on [subsetting `pandas.DataFrames`](https://meds-eds-220.github.io/MEDS-eds-220-course/book/chapters/lesson-3-pandas-subsetting/lesson-3-pandas-subsetting.html) and [plotting](). The best strategy to solve it is to get together with your classmates and work on it together after these lecture.\n",
    "\n",
    "- Review the [complete rubric for this task](https://docs.google.com/document/d/131OnUDOLpOl94SlaMU9nGqT998ABrjFS/edit?usp=sharing&ouid=111507336322611936333&rtpof=true&sd=true) before starting.\n",
    "\n",
    "- **Make at least 5 commits at moments you think are adequate.** We'll check your repository and view the commit history.\n",
    "\n",
    "- **Add comments for all your code.** Err on the side of commenting too much for now. Comments should follow best practices.\n",
    "\n",
    "- **Do not update the top cell with `otter` import** this is used internally for grading.\n",
    "\n",
    "\n",
    "## Acknowledgement\n",
    "This task was adapted from the *Pandas Fundamentals with Earthquake Data* assignment from the e-book [Earth and Environmental Data Science](https://earth-env-data-science.github.io/intro.html)"
   ]
  },
  {
   "cell_type": "markdown",
   "metadata": {},
   "source": [
    "## About the data\n",
    "\n",
    "For this task we are going to use simplified data from the [USGS Earthquakes Database](https://earthquake.usgs.gov/earthquakes/search/). This dataset is given in a single CSV file within the`data` folder (`data/earthquake_data.csv`) and has the following columns:\n",
    "\n",
    "- time = date and time of event (all events from 2014)\n",
    "- latitude = decimal degrees [-90,90]\n",
    "- longitude = decimal degrees [-360,360]\n",
    "- depth = depth of the event (km)\n",
    "- mag =  magnitude of event\n",
    "- id = event identifier\n",
    "- place = where the event took place\n",
    "- type = type of event"
   ]
  },
  {
   "cell_type": "markdown",
   "metadata": {
    "deletable": false,
    "editable": false
   },
   "source": [
    "<!-- BEGIN QUESTION -->\n",
    "\n",
    "## 1 \n",
    "\n",
    "a. Import pandas (always with standard abbreviation!).\n",
    "\n",
    "b. Use `pd.read_csv()` to import the `earthquake_data.csv` dataset and store it in the `raw_eqk` variable.\n"
   ]
  },
  {
   "cell_type": "code",
   "execution_count": 2,
   "metadata": {
    "tags": []
   },
   "outputs": [],
   "source": [
    "import pandas as pd\n",
    "raw_eqk = pd.read_csv(\"data/earthquake_data.csv\")"
   ]
  },
  {
   "cell_type": "markdown",
   "metadata": {
    "deletable": false,
    "editable": false
   },
   "source": [
    "<!-- END QUESTION -->\n",
    "\n",
    "Look at the head of the dataframe. Store the result in the `raw_eqk_head` variable. "
   ]
  },
  {
   "cell_type": "code",
   "execution_count": 3,
   "metadata": {
    "tags": []
   },
   "outputs": [],
   "source": [
    "# first five rows of raw_eqk\n",
    "raw_eqk_head = raw_eqk.head()"
   ]
  },
  {
   "cell_type": "code",
   "execution_count": 4,
   "metadata": {
    "tags": []
   },
   "outputs": [
    {
     "data": {
      "text/html": [
       "<div>\n",
       "<style scoped>\n",
       "    .dataframe tbody tr th:only-of-type {\n",
       "        vertical-align: middle;\n",
       "    }\n",
       "\n",
       "    .dataframe tbody tr th {\n",
       "        vertical-align: top;\n",
       "    }\n",
       "\n",
       "    .dataframe thead th {\n",
       "        text-align: right;\n",
       "    }\n",
       "</style>\n",
       "<table border=\"1\" class=\"dataframe\">\n",
       "  <thead>\n",
       "    <tr style=\"text-align: right;\">\n",
       "      <th></th>\n",
       "      <th>time</th>\n",
       "      <th>latitude</th>\n",
       "      <th>longitude</th>\n",
       "      <th>depth</th>\n",
       "      <th>mag</th>\n",
       "      <th>id</th>\n",
       "      <th>place</th>\n",
       "      <th>type</th>\n",
       "    </tr>\n",
       "  </thead>\n",
       "  <tbody>\n",
       "    <tr>\n",
       "      <th>0</th>\n",
       "      <td>2014-01-31 23:53:37.000</td>\n",
       "      <td>60.252000</td>\n",
       "      <td>-152.7081</td>\n",
       "      <td>90.20</td>\n",
       "      <td>1.10</td>\n",
       "      <td>ak11155107</td>\n",
       "      <td>26km S of Redoubt Volcano, Alaska</td>\n",
       "      <td>earthquake</td>\n",
       "    </tr>\n",
       "    <tr>\n",
       "      <th>1</th>\n",
       "      <td>2014-01-31 23:48:35.452</td>\n",
       "      <td>37.070300</td>\n",
       "      <td>-115.1309</td>\n",
       "      <td>0.00</td>\n",
       "      <td>1.33</td>\n",
       "      <td>nn00436847</td>\n",
       "      <td>32km S of Alamo, Nevada</td>\n",
       "      <td>earthquake</td>\n",
       "    </tr>\n",
       "    <tr>\n",
       "      <th>2</th>\n",
       "      <td>2014-01-31 23:47:24.000</td>\n",
       "      <td>64.671700</td>\n",
       "      <td>-149.2528</td>\n",
       "      <td>7.10</td>\n",
       "      <td>1.30</td>\n",
       "      <td>ak11151142</td>\n",
       "      <td>12km NNW of North Nenana, Alaska</td>\n",
       "      <td>earthquake</td>\n",
       "    </tr>\n",
       "    <tr>\n",
       "      <th>3</th>\n",
       "      <td>2014-01-31 23:30:54.000</td>\n",
       "      <td>63.188700</td>\n",
       "      <td>-148.9575</td>\n",
       "      <td>96.50</td>\n",
       "      <td>0.80</td>\n",
       "      <td>ak11151135</td>\n",
       "      <td>22km S of Cantwell, Alaska</td>\n",
       "      <td>earthquake</td>\n",
       "    </tr>\n",
       "    <tr>\n",
       "      <th>4</th>\n",
       "      <td>2014-01-31 23:30:52.210</td>\n",
       "      <td>32.616833</td>\n",
       "      <td>-115.6925</td>\n",
       "      <td>10.59</td>\n",
       "      <td>1.34</td>\n",
       "      <td>ci37171541</td>\n",
       "      <td>10km WNW of Progreso, Mexico</td>\n",
       "      <td>earthquake</td>\n",
       "    </tr>\n",
       "  </tbody>\n",
       "</table>\n",
       "</div>"
      ],
      "text/plain": [
       "                      time   latitude  longitude  depth   mag          id  \\\n",
       "0  2014-01-31 23:53:37.000  60.252000  -152.7081  90.20  1.10  ak11155107   \n",
       "1  2014-01-31 23:48:35.452  37.070300  -115.1309   0.00  1.33  nn00436847   \n",
       "2  2014-01-31 23:47:24.000  64.671700  -149.2528   7.10  1.30  ak11151142   \n",
       "3  2014-01-31 23:30:54.000  63.188700  -148.9575  96.50  0.80  ak11151135   \n",
       "4  2014-01-31 23:30:52.210  32.616833  -115.6925  10.59  1.34  ci37171541   \n",
       "\n",
       "                               place        type  \n",
       "0  26km S of Redoubt Volcano, Alaska  earthquake  \n",
       "1            32km S of Alamo, Nevada  earthquake  \n",
       "2   12km NNW of North Nenana, Alaska  earthquake  \n",
       "3         22km S of Cantwell, Alaska  earthquake  \n",
       "4       10km WNW of Progreso, Mexico  earthquake  "
      ]
     },
     "execution_count": 4,
     "metadata": {},
     "output_type": "execute_result"
    }
   ],
   "source": [
    "# View the dataframe\n",
    "raw_eqk_head"
   ]
  },
  {
   "cell_type": "markdown",
   "metadata": {
    "deletable": false,
    "editable": false
   },
   "source": [
    "## 2\n",
    "a. Print the shape of the `raw_eqk` dataframe. Store your answer in the `raw_ekq_shape` variable."
   ]
  },
  {
   "cell_type": "code",
   "execution_count": 5,
   "metadata": {
    "tags": []
   },
   "outputs": [],
   "source": [
    "# get number of rows and columns in raw_eqk \n",
    "raw_ekq_shape = raw_eqk.shape"
   ]
  },
  {
   "cell_type": "markdown",
   "metadata": {
    "deletable": false,
    "editable": false
   },
   "source": [
    "b. Store the type of `raw_eqk`'s shape in the `raw_eqk_shape_type` variable."
   ]
  },
  {
   "cell_type": "code",
   "execution_count": 6,
   "metadata": {
    "tags": []
   },
   "outputs": [],
   "source": [
    "# get the type of the variable produced by using `.shape` on a data frame\n",
    "raw_eqk_shape_type = type(raw_ekq_shape)"
   ]
  },
  {
   "cell_type": "code",
   "execution_count": 7,
   "metadata": {
    "tags": []
   },
   "outputs": [
    {
     "data": {
      "text/plain": [
       "tuple"
      ]
     },
     "execution_count": 7,
     "metadata": {},
     "output_type": "execute_result"
    }
   ],
   "source": [
    "# View the dataframe\n",
    "raw_eqk_shape_type"
   ]
  },
  {
   "cell_type": "markdown",
   "metadata": {
    "deletable": false,
    "editable": false
   },
   "source": [
    "c. Extract *only* the number of rows by accessing it from `raw_eqk`'s shape.Store your answer in the `num_rows` variable.  HINT: how do you index an element in a tuple?"
   ]
  },
  {
   "cell_type": "code",
   "execution_count": 8,
   "metadata": {
    "tags": []
   },
   "outputs": [],
   "source": [
    "# get number of rows\n",
    "# accessing the 0th index of the .shape object gives rows in a data frame\n",
    "num_rows = raw_ekq_shape[0]"
   ]
  },
  {
   "cell_type": "markdown",
   "metadata": {
    "deletable": false,
    "editable": false
   },
   "source": [
    "## 3\n",
    "\n",
    "Get the unique values of the type of events. Store your answer in the `unique_events` variable."
   ]
  },
  {
   "cell_type": "code",
   "execution_count": 9,
   "metadata": {
    "tags": []
   },
   "outputs": [],
   "source": [
    "# gives array containing every unique value in the `type` columnn raw_eqk\n",
    "unique_events = raw_eqk[\"type\"].unique()"
   ]
  },
  {
   "cell_type": "markdown",
   "metadata": {
    "deletable": false,
    "editable": false
   },
   "source": [
    "# 4\n",
    "\n",
    "a. Select only earthquake events and store them as `eqk` (variable name). Update the index of `eqk` to be the `id` column of the dataframe. "
   ]
  },
  {
   "cell_type": "code",
   "execution_count": 10,
   "metadata": {
    "tags": []
   },
   "outputs": [],
   "source": [
    "# subsets raw_eqk for rows that have 'earthquake' in the 'type' column, and method chains `.set_index` to set index to the id column\n",
    "eqk = raw_eqk[raw_eqk[\"type\"] == 'earthquake'].set_index(\"id\")"
   ]
  },
  {
   "cell_type": "code",
   "execution_count": 11,
   "metadata": {
    "tags": []
   },
   "outputs": [
    {
     "data": {
      "text/html": [
       "<div>\n",
       "<style scoped>\n",
       "    .dataframe tbody tr th:only-of-type {\n",
       "        vertical-align: middle;\n",
       "    }\n",
       "\n",
       "    .dataframe tbody tr th {\n",
       "        vertical-align: top;\n",
       "    }\n",
       "\n",
       "    .dataframe thead th {\n",
       "        text-align: right;\n",
       "    }\n",
       "</style>\n",
       "<table border=\"1\" class=\"dataframe\">\n",
       "  <thead>\n",
       "    <tr style=\"text-align: right;\">\n",
       "      <th></th>\n",
       "      <th>time</th>\n",
       "      <th>latitude</th>\n",
       "      <th>longitude</th>\n",
       "      <th>depth</th>\n",
       "      <th>mag</th>\n",
       "      <th>place</th>\n",
       "      <th>type</th>\n",
       "    </tr>\n",
       "    <tr>\n",
       "      <th>id</th>\n",
       "      <th></th>\n",
       "      <th></th>\n",
       "      <th></th>\n",
       "      <th></th>\n",
       "      <th></th>\n",
       "      <th></th>\n",
       "      <th></th>\n",
       "    </tr>\n",
       "  </thead>\n",
       "  <tbody>\n",
       "    <tr>\n",
       "      <th>ak11155107</th>\n",
       "      <td>2014-01-31 23:53:37.000</td>\n",
       "      <td>60.252000</td>\n",
       "      <td>-152.708100</td>\n",
       "      <td>90.20</td>\n",
       "      <td>1.10</td>\n",
       "      <td>26km S of Redoubt Volcano, Alaska</td>\n",
       "      <td>earthquake</td>\n",
       "    </tr>\n",
       "    <tr>\n",
       "      <th>nn00436847</th>\n",
       "      <td>2014-01-31 23:48:35.452</td>\n",
       "      <td>37.070300</td>\n",
       "      <td>-115.130900</td>\n",
       "      <td>0.00</td>\n",
       "      <td>1.33</td>\n",
       "      <td>32km S of Alamo, Nevada</td>\n",
       "      <td>earthquake</td>\n",
       "    </tr>\n",
       "    <tr>\n",
       "      <th>ak11151142</th>\n",
       "      <td>2014-01-31 23:47:24.000</td>\n",
       "      <td>64.671700</td>\n",
       "      <td>-149.252800</td>\n",
       "      <td>7.10</td>\n",
       "      <td>1.30</td>\n",
       "      <td>12km NNW of North Nenana, Alaska</td>\n",
       "      <td>earthquake</td>\n",
       "    </tr>\n",
       "    <tr>\n",
       "      <th>ak11151135</th>\n",
       "      <td>2014-01-31 23:30:54.000</td>\n",
       "      <td>63.188700</td>\n",
       "      <td>-148.957500</td>\n",
       "      <td>96.50</td>\n",
       "      <td>0.80</td>\n",
       "      <td>22km S of Cantwell, Alaska</td>\n",
       "      <td>earthquake</td>\n",
       "    </tr>\n",
       "    <tr>\n",
       "      <th>ci37171541</th>\n",
       "      <td>2014-01-31 23:30:52.210</td>\n",
       "      <td>32.616833</td>\n",
       "      <td>-115.692500</td>\n",
       "      <td>10.59</td>\n",
       "      <td>1.34</td>\n",
       "      <td>10km WNW of Progreso, Mexico</td>\n",
       "      <td>earthquake</td>\n",
       "    </tr>\n",
       "    <tr>\n",
       "      <th>...</th>\n",
       "      <td>...</td>\n",
       "      <td>...</td>\n",
       "      <td>...</td>\n",
       "      <td>...</td>\n",
       "      <td>...</td>\n",
       "      <td>...</td>\n",
       "      <td>...</td>\n",
       "    </tr>\n",
       "    <tr>\n",
       "      <th>ak11453391</th>\n",
       "      <td>2014-12-01 00:10:16.000</td>\n",
       "      <td>60.963900</td>\n",
       "      <td>-146.762900</td>\n",
       "      <td>14.80</td>\n",
       "      <td>3.80</td>\n",
       "      <td>29km SW of Valdez, Alaska</td>\n",
       "      <td>earthquake</td>\n",
       "    </tr>\n",
       "    <tr>\n",
       "      <th>ak11453395</th>\n",
       "      <td>2014-12-01 00:09:39.000</td>\n",
       "      <td>58.869100</td>\n",
       "      <td>-154.415900</td>\n",
       "      <td>108.40</td>\n",
       "      <td>2.40</td>\n",
       "      <td>102km SSE of Old Iliamna, Alaska</td>\n",
       "      <td>earthquake</td>\n",
       "    </tr>\n",
       "    <tr>\n",
       "      <th>nc72358451</th>\n",
       "      <td>2014-12-01 00:09:25.350</td>\n",
       "      <td>38.843498</td>\n",
       "      <td>-122.825836</td>\n",
       "      <td>2.37</td>\n",
       "      <td>0.43</td>\n",
       "      <td>9km WNW of Cobb, California</td>\n",
       "      <td>earthquake</td>\n",
       "    </tr>\n",
       "    <tr>\n",
       "      <th>ak11453390</th>\n",
       "      <td>2014-12-01 00:05:54.000</td>\n",
       "      <td>65.152100</td>\n",
       "      <td>-148.992000</td>\n",
       "      <td>9.50</td>\n",
       "      <td>0.40</td>\n",
       "      <td>57km NW of Ester, Alaska</td>\n",
       "      <td>earthquake</td>\n",
       "    </tr>\n",
       "    <tr>\n",
       "      <th>ak11453389</th>\n",
       "      <td>2014-12-01 00:04:05.000</td>\n",
       "      <td>60.227200</td>\n",
       "      <td>-147.024500</td>\n",
       "      <td>2.50</td>\n",
       "      <td>1.60</td>\n",
       "      <td>78km WSW of Cordova, Alaska</td>\n",
       "      <td>earthquake</td>\n",
       "    </tr>\n",
       "  </tbody>\n",
       "</table>\n",
       "<p>118398 rows × 7 columns</p>\n",
       "</div>"
      ],
      "text/plain": [
       "                               time   latitude   longitude   depth   mag  \\\n",
       "id                                                                         \n",
       "ak11155107  2014-01-31 23:53:37.000  60.252000 -152.708100   90.20  1.10   \n",
       "nn00436847  2014-01-31 23:48:35.452  37.070300 -115.130900    0.00  1.33   \n",
       "ak11151142  2014-01-31 23:47:24.000  64.671700 -149.252800    7.10  1.30   \n",
       "ak11151135  2014-01-31 23:30:54.000  63.188700 -148.957500   96.50  0.80   \n",
       "ci37171541  2014-01-31 23:30:52.210  32.616833 -115.692500   10.59  1.34   \n",
       "...                             ...        ...         ...     ...   ...   \n",
       "ak11453391  2014-12-01 00:10:16.000  60.963900 -146.762900   14.80  3.80   \n",
       "ak11453395  2014-12-01 00:09:39.000  58.869100 -154.415900  108.40  2.40   \n",
       "nc72358451  2014-12-01 00:09:25.350  38.843498 -122.825836    2.37  0.43   \n",
       "ak11453390  2014-12-01 00:05:54.000  65.152100 -148.992000    9.50  0.40   \n",
       "ak11453389  2014-12-01 00:04:05.000  60.227200 -147.024500    2.50  1.60   \n",
       "\n",
       "                                        place        type  \n",
       "id                                                         \n",
       "ak11155107  26km S of Redoubt Volcano, Alaska  earthquake  \n",
       "nn00436847            32km S of Alamo, Nevada  earthquake  \n",
       "ak11151142   12km NNW of North Nenana, Alaska  earthquake  \n",
       "ak11151135         22km S of Cantwell, Alaska  earthquake  \n",
       "ci37171541       10km WNW of Progreso, Mexico  earthquake  \n",
       "...                                       ...         ...  \n",
       "ak11453391          29km SW of Valdez, Alaska  earthquake  \n",
       "ak11453395   102km SSE of Old Iliamna, Alaska  earthquake  \n",
       "nc72358451        9km WNW of Cobb, California  earthquake  \n",
       "ak11453390           57km NW of Ester, Alaska  earthquake  \n",
       "ak11453389        78km WSW of Cordova, Alaska  earthquake  \n",
       "\n",
       "[118398 rows x 7 columns]"
      ]
     },
     "execution_count": 11,
     "metadata": {},
     "output_type": "execute_result"
    }
   ],
   "source": [
    "# View the dataframe\n",
    "eqk"
   ]
  },
  {
   "cell_type": "markdown",
   "metadata": {
    "deletable": false,
    "editable": false
   },
   "source": [
    "b. Check the new index by viewing the first 3 rows of `eqk`. Store your results in the `eqk_3` variable. "
   ]
  },
  {
   "cell_type": "code",
   "execution_count": 12,
   "metadata": {
    "tags": []
   },
   "outputs": [],
   "source": [
    "# calls `.head()` for eqk with parameter n = 3 so it only displays top 3 rows\n",
    "eqk_3 = eqk.head(3)"
   ]
  },
  {
   "cell_type": "code",
   "execution_count": 13,
   "metadata": {
    "tags": []
   },
   "outputs": [
    {
     "data": {
      "text/html": [
       "<div>\n",
       "<style scoped>\n",
       "    .dataframe tbody tr th:only-of-type {\n",
       "        vertical-align: middle;\n",
       "    }\n",
       "\n",
       "    .dataframe tbody tr th {\n",
       "        vertical-align: top;\n",
       "    }\n",
       "\n",
       "    .dataframe thead th {\n",
       "        text-align: right;\n",
       "    }\n",
       "</style>\n",
       "<table border=\"1\" class=\"dataframe\">\n",
       "  <thead>\n",
       "    <tr style=\"text-align: right;\">\n",
       "      <th></th>\n",
       "      <th>time</th>\n",
       "      <th>latitude</th>\n",
       "      <th>longitude</th>\n",
       "      <th>depth</th>\n",
       "      <th>mag</th>\n",
       "      <th>place</th>\n",
       "      <th>type</th>\n",
       "    </tr>\n",
       "    <tr>\n",
       "      <th>id</th>\n",
       "      <th></th>\n",
       "      <th></th>\n",
       "      <th></th>\n",
       "      <th></th>\n",
       "      <th></th>\n",
       "      <th></th>\n",
       "      <th></th>\n",
       "    </tr>\n",
       "  </thead>\n",
       "  <tbody>\n",
       "    <tr>\n",
       "      <th>ak11155107</th>\n",
       "      <td>2014-01-31 23:53:37.000</td>\n",
       "      <td>60.2520</td>\n",
       "      <td>-152.7081</td>\n",
       "      <td>90.2</td>\n",
       "      <td>1.10</td>\n",
       "      <td>26km S of Redoubt Volcano, Alaska</td>\n",
       "      <td>earthquake</td>\n",
       "    </tr>\n",
       "    <tr>\n",
       "      <th>nn00436847</th>\n",
       "      <td>2014-01-31 23:48:35.452</td>\n",
       "      <td>37.0703</td>\n",
       "      <td>-115.1309</td>\n",
       "      <td>0.0</td>\n",
       "      <td>1.33</td>\n",
       "      <td>32km S of Alamo, Nevada</td>\n",
       "      <td>earthquake</td>\n",
       "    </tr>\n",
       "    <tr>\n",
       "      <th>ak11151142</th>\n",
       "      <td>2014-01-31 23:47:24.000</td>\n",
       "      <td>64.6717</td>\n",
       "      <td>-149.2528</td>\n",
       "      <td>7.1</td>\n",
       "      <td>1.30</td>\n",
       "      <td>12km NNW of North Nenana, Alaska</td>\n",
       "      <td>earthquake</td>\n",
       "    </tr>\n",
       "  </tbody>\n",
       "</table>\n",
       "</div>"
      ],
      "text/plain": [
       "                               time  latitude  longitude  depth   mag  \\\n",
       "id                                                                      \n",
       "ak11155107  2014-01-31 23:53:37.000   60.2520  -152.7081   90.2  1.10   \n",
       "nn00436847  2014-01-31 23:48:35.452   37.0703  -115.1309    0.0  1.33   \n",
       "ak11151142  2014-01-31 23:47:24.000   64.6717  -149.2528    7.1  1.30   \n",
       "\n",
       "                                        place        type  \n",
       "id                                                         \n",
       "ak11155107  26km S of Redoubt Volcano, Alaska  earthquake  \n",
       "nn00436847            32km S of Alamo, Nevada  earthquake  \n",
       "ak11151142   12km NNW of North Nenana, Alaska  earthquake  "
      ]
     },
     "execution_count": 13,
     "metadata": {},
     "output_type": "execute_result"
    }
   ],
   "source": [
    "# View the dataframe\n",
    "eqk_3"
   ]
  },
  {
   "cell_type": "markdown",
   "metadata": {
    "deletable": false,
    "editable": false
   },
   "source": [
    "# 5\n",
    "\n",
    "How many events were left out of `raw_eqk` when you selected ony earthqake events? Store your answer in the `ommitted_events` variable. \n",
    "\n",
    "HINT: There are *many* ways you can get this information. One could be to use (2). "
   ]
  },
  {
   "cell_type": "code",
   "execution_count": 88,
   "metadata": {
    "tags": []
   },
   "outputs": [],
   "source": [
    "# subset for all events that aren't \"earthquake\", and filter to only the \"type\" column, use `nunique() to get total omitted events, int() to make it an integer\n",
    "omitted_events = int(raw_eqk.loc[raw_eqk[\"type\"] != \"earthquake\", [\"type\"]].nunique())"
   ]
  },
  {
   "cell_type": "markdown",
   "metadata": {
    "deletable": false,
    "editable": false
   },
   "source": [
    "<!-- BEGIN QUESTION -->\n",
    "\n",
    "# 6\n",
    "Without creating any new variables, plot a histogram of the eartquake's magnitudes (`eqk` data). Add a title and change the color of your graph."
   ]
  },
  {
   "cell_type": "code",
   "execution_count": 15,
   "metadata": {
    "tags": []
   },
   "outputs": [
    {
     "data": {
      "text/plain": [
       "Text(0.5, 0, 'Magnitude')"
      ]
     },
     "execution_count": 15,
     "metadata": {},
     "output_type": "execute_result"
    },
    {
     "data": {
      "image/png": "[encoded data removed]",
      "text/plain": [
       "<Figure size 640x480 with 1 Axes>"
      ]
     },
     "metadata": {},
     "output_type": "display_data"
    }
   ],
   "source": [
    "eqk.plot(kind = \"hist\", # specifies histogram\n",
    "        column = \"mag\", # selection of variable to use in x axis\n",
    "        title = \"Frequency of Earthquake Magnitudes in the United States\",\n",
    "        color = \"red\",\n",
    "        xlim = [-3,10], # specifies range of x axis, plot defaulted to a range in mass excess of the min and max value of `mag`\n",
    "        bins = 1500, # specifies number of bins, this number is needed for the plot to accurately represent the frequency of the data\n",
    "        legend = False).set_xlabel( # removes legend\n",
    "    \"Magnitude\") # sets x axis label"
   ]
  },
  {
   "cell_type": "markdown",
   "metadata": {
    "deletable": false,
    "editable": false
   },
   "source": [
    "<!-- END QUESTION -->\n",
    "\n",
    "# 7\n",
    "\n",
    "a. Create a new variable `top20` with the 20 earthquakes with largest magnitude. HINT: check the method [`pandas.Series.nlargest`](https://pandas.pydata.org/docs/reference/api/pandas.Series.nlargest.html)"
   ]
  },
  {
   "cell_type": "code",
   "execution_count": 16,
   "metadata": {
    "tags": []
   },
   "outputs": [],
   "source": [
    "# subsets eqk for just the highest 20 values in column 'mag'\n",
    "top20 = eqk.nlargest(n = 20, columns = \"mag\")"
   ]
  },
  {
   "cell_type": "code",
   "execution_count": 17,
   "metadata": {
    "tags": []
   },
   "outputs": [
    {
     "data": {
      "text/html": [
       "<div>\n",
       "<style scoped>\n",
       "    .dataframe tbody tr th:only-of-type {\n",
       "        vertical-align: middle;\n",
       "    }\n",
       "\n",
       "    .dataframe tbody tr th {\n",
       "        vertical-align: top;\n",
       "    }\n",
       "\n",
       "    .dataframe thead th {\n",
       "        text-align: right;\n",
       "    }\n",
       "</style>\n",
       "<table border=\"1\" class=\"dataframe\">\n",
       "  <thead>\n",
       "    <tr style=\"text-align: right;\">\n",
       "      <th></th>\n",
       "      <th>time</th>\n",
       "      <th>latitude</th>\n",
       "      <th>longitude</th>\n",
       "      <th>depth</th>\n",
       "      <th>mag</th>\n",
       "      <th>place</th>\n",
       "      <th>type</th>\n",
       "    </tr>\n",
       "    <tr>\n",
       "      <th>id</th>\n",
       "      <th></th>\n",
       "      <th></th>\n",
       "      <th></th>\n",
       "      <th></th>\n",
       "      <th></th>\n",
       "      <th></th>\n",
       "      <th></th>\n",
       "    </tr>\n",
       "  </thead>\n",
       "  <tbody>\n",
       "    <tr>\n",
       "      <th>usc000nzvd</th>\n",
       "      <td>2014-04-01 23:46:47.260</td>\n",
       "      <td>-19.6097</td>\n",
       "      <td>-70.7691</td>\n",
       "      <td>25.00</td>\n",
       "      <td>8.2</td>\n",
       "      <td>94km NW of Iquique, Chile</td>\n",
       "      <td>earthquake</td>\n",
       "    </tr>\n",
       "    <tr>\n",
       "      <th>usc000rki5</th>\n",
       "      <td>2014-06-23 20:53:09.700</td>\n",
       "      <td>51.8486</td>\n",
       "      <td>178.7352</td>\n",
       "      <td>109.00</td>\n",
       "      <td>7.9</td>\n",
       "      <td>19km SE of Little Sitkin Island, Alaska</td>\n",
       "      <td>earthquake</td>\n",
       "    </tr>\n",
       "    <tr>\n",
       "      <th>usc000p27i</th>\n",
       "      <td>2014-04-03 02:43:13.110</td>\n",
       "      <td>-20.5709</td>\n",
       "      <td>-70.4931</td>\n",
       "      <td>22.40</td>\n",
       "      <td>7.7</td>\n",
       "      <td>53km SW of Iquique, Chile</td>\n",
       "      <td>earthquake</td>\n",
       "    </tr>\n",
       "    <tr>\n",
       "      <th>usc000phx5</th>\n",
       "      <td>2014-04-12 20:14:39.300</td>\n",
       "      <td>-11.2701</td>\n",
       "      <td>162.1481</td>\n",
       "      <td>22.56</td>\n",
       "      <td>7.6</td>\n",
       "      <td>93km SSE of Kirakira, Solomon Islands</td>\n",
       "      <td>earthquake</td>\n",
       "    </tr>\n",
       "    <tr>\n",
       "      <th>usb000pr89</th>\n",
       "      <td>2014-04-19 13:28:00.810</td>\n",
       "      <td>-6.7547</td>\n",
       "      <td>155.0241</td>\n",
       "      <td>43.37</td>\n",
       "      <td>7.5</td>\n",
       "      <td>70km SW of Panguna, Papua New Guinea</td>\n",
       "      <td>earthquake</td>\n",
       "    </tr>\n",
       "    <tr>\n",
       "      <th>usc000piqj</th>\n",
       "      <td>2014-04-13 12:36:19.230</td>\n",
       "      <td>-11.4633</td>\n",
       "      <td>162.0511</td>\n",
       "      <td>39.00</td>\n",
       "      <td>7.4</td>\n",
       "      <td>112km S of Kirakira, Solomon Islands</td>\n",
       "      <td>earthquake</td>\n",
       "    </tr>\n",
       "    <tr>\n",
       "      <th>usb000slwn</th>\n",
       "      <td>2014-10-14 03:51:34.460</td>\n",
       "      <td>12.5262</td>\n",
       "      <td>-88.1225</td>\n",
       "      <td>40.00</td>\n",
       "      <td>7.3</td>\n",
       "      <td>74km S of Intipuca, El Salvador</td>\n",
       "      <td>earthquake</td>\n",
       "    </tr>\n",
       "    <tr>\n",
       "      <th>usb000pq41</th>\n",
       "      <td>2014-04-18 14:27:24.920</td>\n",
       "      <td>17.3970</td>\n",
       "      <td>-100.9723</td>\n",
       "      <td>24.00</td>\n",
       "      <td>7.2</td>\n",
       "      <td>33km ESE of Petatlan, Mexico</td>\n",
       "      <td>earthquake</td>\n",
       "    </tr>\n",
       "    <tr>\n",
       "      <th>usc000pft9</th>\n",
       "      <td>2014-04-11 07:07:23.130</td>\n",
       "      <td>-6.5858</td>\n",
       "      <td>155.0485</td>\n",
       "      <td>60.53</td>\n",
       "      <td>7.1</td>\n",
       "      <td>56km WSW of Panguna, Papua New Guinea</td>\n",
       "      <td>earthquake</td>\n",
       "    </tr>\n",
       "    <tr>\n",
       "      <th>usc000sxh8</th>\n",
       "      <td>2014-11-15 02:31:41.720</td>\n",
       "      <td>1.8929</td>\n",
       "      <td>126.5217</td>\n",
       "      <td>45.00</td>\n",
       "      <td>7.1</td>\n",
       "      <td>154km NW of Kota Ternate, Indonesia</td>\n",
       "      <td>earthquake</td>\n",
       "    </tr>\n",
       "    <tr>\n",
       "      <th>usc000stdc</th>\n",
       "      <td>2014-11-01 18:57:22.380</td>\n",
       "      <td>-19.6903</td>\n",
       "      <td>-177.7587</td>\n",
       "      <td>434.00</td>\n",
       "      <td>7.1</td>\n",
       "      <td>144km NE of Ndoi Island, Fiji</td>\n",
       "      <td>earthquake</td>\n",
       "    </tr>\n",
       "    <tr>\n",
       "      <th>usb000sk6k</th>\n",
       "      <td>2014-10-09 02:14:31.440</td>\n",
       "      <td>-32.1082</td>\n",
       "      <td>-110.8112</td>\n",
       "      <td>16.54</td>\n",
       "      <td>7.0</td>\n",
       "      <td>Southern East Pacific Rise</td>\n",
       "      <td>earthquake</td>\n",
       "    </tr>\n",
       "    <tr>\n",
       "      <th>usc000mnvj</th>\n",
       "      <td>2014-02-12 09:19:49.060</td>\n",
       "      <td>35.9053</td>\n",
       "      <td>82.5864</td>\n",
       "      <td>10.00</td>\n",
       "      <td>6.9</td>\n",
       "      <td>272km ESE of Hotan, China</td>\n",
       "      <td>earthquake</td>\n",
       "    </tr>\n",
       "    <tr>\n",
       "      <th>usc000nzwm</th>\n",
       "      <td>2014-04-01 23:57:58.790</td>\n",
       "      <td>-19.8927</td>\n",
       "      <td>-70.9455</td>\n",
       "      <td>28.42</td>\n",
       "      <td>6.9</td>\n",
       "      <td>91km WNW of Iquique, Chile</td>\n",
       "      <td>earthquake</td>\n",
       "    </tr>\n",
       "    <tr>\n",
       "      <th>usb000r2hc</th>\n",
       "      <td>2014-05-24 09:25:02.440</td>\n",
       "      <td>40.2893</td>\n",
       "      <td>25.3889</td>\n",
       "      <td>6.43</td>\n",
       "      <td>6.9</td>\n",
       "      <td>22km SSW of Kamariotissa, Greece</td>\n",
       "      <td>earthquake</td>\n",
       "    </tr>\n",
       "    <tr>\n",
       "      <th>usc000rngj</th>\n",
       "      <td>2014-06-29 07:52:55.170</td>\n",
       "      <td>-55.4703</td>\n",
       "      <td>-28.3669</td>\n",
       "      <td>8.00</td>\n",
       "      <td>6.9</td>\n",
       "      <td>154km NNW of Visokoi Island,</td>\n",
       "      <td>earthquake</td>\n",
       "    </tr>\n",
       "    <tr>\n",
       "      <th>usc000rkg5</th>\n",
       "      <td>2014-06-23 19:19:15.940</td>\n",
       "      <td>-29.9772</td>\n",
       "      <td>-177.7247</td>\n",
       "      <td>20.00</td>\n",
       "      <td>6.9</td>\n",
       "      <td>80km SSE of Raoul Island, New Zealand</td>\n",
       "      <td>earthquake</td>\n",
       "    </tr>\n",
       "    <tr>\n",
       "      <th>usb000ruzk</th>\n",
       "      <td>2014-07-21 14:54:41.000</td>\n",
       "      <td>-19.8015</td>\n",
       "      <td>-178.4001</td>\n",
       "      <td>615.42</td>\n",
       "      <td>6.9</td>\n",
       "      <td>99km NNE of Ndoi Island, Fiji</td>\n",
       "      <td>earthquake</td>\n",
       "    </tr>\n",
       "    <tr>\n",
       "      <th>usc000rr6a</th>\n",
       "      <td>2014-07-07 11:23:54.780</td>\n",
       "      <td>14.7240</td>\n",
       "      <td>-92.4614</td>\n",
       "      <td>53.00</td>\n",
       "      <td>6.9</td>\n",
       "      <td>4km W of Puerto Madero, Mexico</td>\n",
       "      <td>earthquake</td>\n",
       "    </tr>\n",
       "    <tr>\n",
       "      <th>usb000rzki</th>\n",
       "      <td>2014-08-03 00:22:03.680</td>\n",
       "      <td>0.8295</td>\n",
       "      <td>146.1688</td>\n",
       "      <td>13.00</td>\n",
       "      <td>6.9</td>\n",
       "      <td>Federated States of Micronesia region</td>\n",
       "      <td>earthquake</td>\n",
       "    </tr>\n",
       "  </tbody>\n",
       "</table>\n",
       "</div>"
      ],
      "text/plain": [
       "                               time  latitude  longitude   depth  mag  \\\n",
       "id                                                                      \n",
       "usc000nzvd  2014-04-01 23:46:47.260  -19.6097   -70.7691   25.00  8.2   \n",
       "usc000rki5  2014-06-23 20:53:09.700   51.8486   178.7352  109.00  7.9   \n",
       "usc000p27i  2014-04-03 02:43:13.110  -20.5709   -70.4931   22.40  7.7   \n",
       "usc000phx5  2014-04-12 20:14:39.300  -11.2701   162.1481   22.56  7.6   \n",
       "usb000pr89  2014-04-19 13:28:00.810   -6.7547   155.0241   43.37  7.5   \n",
       "usc000piqj  2014-04-13 12:36:19.230  -11.4633   162.0511   39.00  7.4   \n",
       "usb000slwn  2014-10-14 03:51:34.460   12.5262   -88.1225   40.00  7.3   \n",
       "usb000pq41  2014-04-18 14:27:24.920   17.3970  -100.9723   24.00  7.2   \n",
       "usc000pft9  2014-04-11 07:07:23.130   -6.5858   155.0485   60.53  7.1   \n",
       "usc000sxh8  2014-11-15 02:31:41.720    1.8929   126.5217   45.00  7.1   \n",
       "usc000stdc  2014-11-01 18:57:22.380  -19.6903  -177.7587  434.00  7.1   \n",
       "usb000sk6k  2014-10-09 02:14:31.440  -32.1082  -110.8112   16.54  7.0   \n",
       "usc000mnvj  2014-02-12 09:19:49.060   35.9053    82.5864   10.00  6.9   \n",
       "usc000nzwm  2014-04-01 23:57:58.790  -19.8927   -70.9455   28.42  6.9   \n",
       "usb000r2hc  2014-05-24 09:25:02.440   40.2893    25.3889    6.43  6.9   \n",
       "usc000rngj  2014-06-29 07:52:55.170  -55.4703   -28.3669    8.00  6.9   \n",
       "usc000rkg5  2014-06-23 19:19:15.940  -29.9772  -177.7247   20.00  6.9   \n",
       "usb000ruzk  2014-07-21 14:54:41.000  -19.8015  -178.4001  615.42  6.9   \n",
       "usc000rr6a  2014-07-07 11:23:54.780   14.7240   -92.4614   53.00  6.9   \n",
       "usb000rzki  2014-08-03 00:22:03.680    0.8295   146.1688   13.00  6.9   \n",
       "\n",
       "                                              place        type  \n",
       "id                                                               \n",
       "usc000nzvd                94km NW of Iquique, Chile  earthquake  \n",
       "usc000rki5  19km SE of Little Sitkin Island, Alaska  earthquake  \n",
       "usc000p27i                53km SW of Iquique, Chile  earthquake  \n",
       "usc000phx5    93km SSE of Kirakira, Solomon Islands  earthquake  \n",
       "usb000pr89     70km SW of Panguna, Papua New Guinea  earthquake  \n",
       "usc000piqj     112km S of Kirakira, Solomon Islands  earthquake  \n",
       "usb000slwn          74km S of Intipuca, El Salvador  earthquake  \n",
       "usb000pq41             33km ESE of Petatlan, Mexico  earthquake  \n",
       "usc000pft9    56km WSW of Panguna, Papua New Guinea  earthquake  \n",
       "usc000sxh8      154km NW of Kota Ternate, Indonesia  earthquake  \n",
       "usc000stdc            144km NE of Ndoi Island, Fiji  earthquake  \n",
       "usb000sk6k               Southern East Pacific Rise  earthquake  \n",
       "usc000mnvj                272km ESE of Hotan, China  earthquake  \n",
       "usc000nzwm               91km WNW of Iquique, Chile  earthquake  \n",
       "usb000r2hc         22km SSW of Kamariotissa, Greece  earthquake  \n",
       "usc000rngj            154km NNW of Visokoi Island,   earthquake  \n",
       "usc000rkg5    80km SSE of Raoul Island, New Zealand  earthquake  \n",
       "usb000ruzk            99km NNE of Ndoi Island, Fiji  earthquake  \n",
       "usc000rr6a           4km W of Puerto Madero, Mexico  earthquake  \n",
       "usb000rzki    Federated States of Micronesia region  earthquake  "
      ]
     },
     "execution_count": 17,
     "metadata": {},
     "output_type": "execute_result"
    }
   ],
   "source": [
    "# View the dataframe \n",
    "top20"
   ]
  },
  {
   "cell_type": "markdown",
   "metadata": {
    "deletable": false,
    "editable": false
   },
   "source": [
    "<!-- BEGIN QUESTION -->\n",
    "\n",
    "b. Create a bar plot showing the magnitude of the top 20 earthquakes. Update the title, x-axis label, y-axis label, and color of the bars. "
   ]
  },
  {
   "cell_type": "code",
   "execution_count": 26,
   "metadata": {
    "tags": []
   },
   "outputs": [
    {
     "data": {
      "text/plain": [
       "<AxesSubplot:title={'center':'Top 20 Strongest Earthquakes in the World'}, xlabel='Location', ylabel='Magnitude'>"
      ]
     },
     "execution_count": 26,
     "metadata": {},
     "output_type": "execute_result"
    },
    {
     "data": {
      "image/png": "[encoded data removed]",
      "text/plain": [
       "<Figure size 640x480 with 1 Axes>"
      ]
     },
     "metadata": {},
     "output_type": "display_data"
    }
   ],
   "source": [
    "top20.plot(kind = \"bar\", # \"bar\" gives bar graph\n",
    "          y = \"mag\", # no x variable argument defaults x to the index\n",
    "          title = \"Top 20 Strongest Earthquakes in the World\",\n",
    "          xlabel = \"Location\",\n",
    "          ylabel = \"Magnitude\",\n",
    "          color = \"darkgoldenrod\", # sourced color from matplotlib list of named colors\n",
    "          legend = False)"
   ]
  },
  {
   "cell_type": "markdown",
   "metadata": {
    "deletable": false,
    "editable": false
   },
   "source": [
    "<!-- END QUESTION -->\n",
    "\n",
    "<!-- BEGIN QUESTION -->\n",
    "\n",
    "c. What is the role of the `top20` index in the graph? What would have happened if we had not updated the index?"
   ]
  },
  {
   "cell_type": "markdown",
   "metadata": {},
   "source": [
    "We had set the index to be a unique identifier for each index. In this case, the index fills the role of the x axis when the x argument in `pd.plot()` isn't specified. If we hadn't updated the index, the x axis would just be whatever numbered entry these earthquakes are in the data frame."
   ]
  },
  {
   "cell_type": "markdown",
   "metadata": {
    "deletable": false,
    "editable": false
   },
   "source": [
    "<!-- END QUESTION -->\n",
    "\n",
    "# 8 \n",
    "We are interested in the place, magnitude, and depth of the top 20 earthquakes with largest magnitude. Select this data from the `eqk` data frame. Store your answer in the `top20_filtered` variable. \n",
    "\n",
    "HINT: This is a \"select rows and columns simultaneously\" from `eqk` exercise. To select the rows you could use the index of `top20`."
   ]
  },
  {
   "cell_type": "code",
   "execution_count": 48,
   "metadata": {
    "tags": []
   },
   "outputs": [],
   "source": [
    "# gets filtered subset by selecting rows by the index of the `top20` data frame, along with filtering for columns\n",
    "top20_filtered = eqk.loc[top20.index, ['place', 'mag', 'depth']]"
   ]
  },
  {
   "cell_type": "code",
   "execution_count": 49,
   "metadata": {
    "tags": []
   },
   "outputs": [
    {
     "data": {
      "text/html": [
       "<div>\n",
       "<style scoped>\n",
       "    .dataframe tbody tr th:only-of-type {\n",
       "        vertical-align: middle;\n",
       "    }\n",
       "\n",
       "    .dataframe tbody tr th {\n",
       "        vertical-align: top;\n",
       "    }\n",
       "\n",
       "    .dataframe thead th {\n",
       "        text-align: right;\n",
       "    }\n",
       "</style>\n",
       "<table border=\"1\" class=\"dataframe\">\n",
       "  <thead>\n",
       "    <tr style=\"text-align: right;\">\n",
       "      <th></th>\n",
       "      <th>place</th>\n",
       "      <th>mag</th>\n",
       "      <th>depth</th>\n",
       "    </tr>\n",
       "    <tr>\n",
       "      <th>id</th>\n",
       "      <th></th>\n",
       "      <th></th>\n",
       "      <th></th>\n",
       "    </tr>\n",
       "  </thead>\n",
       "  <tbody>\n",
       "    <tr>\n",
       "      <th>usc000nzvd</th>\n",
       "      <td>94km NW of Iquique, Chile</td>\n",
       "      <td>8.2</td>\n",
       "      <td>25.00</td>\n",
       "    </tr>\n",
       "    <tr>\n",
       "      <th>usc000rki5</th>\n",
       "      <td>19km SE of Little Sitkin Island, Alaska</td>\n",
       "      <td>7.9</td>\n",
       "      <td>109.00</td>\n",
       "    </tr>\n",
       "    <tr>\n",
       "      <th>usc000p27i</th>\n",
       "      <td>53km SW of Iquique, Chile</td>\n",
       "      <td>7.7</td>\n",
       "      <td>22.40</td>\n",
       "    </tr>\n",
       "    <tr>\n",
       "      <th>usc000phx5</th>\n",
       "      <td>93km SSE of Kirakira, Solomon Islands</td>\n",
       "      <td>7.6</td>\n",
       "      <td>22.56</td>\n",
       "    </tr>\n",
       "    <tr>\n",
       "      <th>usb000pr89</th>\n",
       "      <td>70km SW of Panguna, Papua New Guinea</td>\n",
       "      <td>7.5</td>\n",
       "      <td>43.37</td>\n",
       "    </tr>\n",
       "    <tr>\n",
       "      <th>usc000piqj</th>\n",
       "      <td>112km S of Kirakira, Solomon Islands</td>\n",
       "      <td>7.4</td>\n",
       "      <td>39.00</td>\n",
       "    </tr>\n",
       "    <tr>\n",
       "      <th>usb000slwn</th>\n",
       "      <td>74km S of Intipuca, El Salvador</td>\n",
       "      <td>7.3</td>\n",
       "      <td>40.00</td>\n",
       "    </tr>\n",
       "    <tr>\n",
       "      <th>usb000pq41</th>\n",
       "      <td>33km ESE of Petatlan, Mexico</td>\n",
       "      <td>7.2</td>\n",
       "      <td>24.00</td>\n",
       "    </tr>\n",
       "    <tr>\n",
       "      <th>usc000pft9</th>\n",
       "      <td>56km WSW of Panguna, Papua New Guinea</td>\n",
       "      <td>7.1</td>\n",
       "      <td>60.53</td>\n",
       "    </tr>\n",
       "    <tr>\n",
       "      <th>usc000sxh8</th>\n",
       "      <td>154km NW of Kota Ternate, Indonesia</td>\n",
       "      <td>7.1</td>\n",
       "      <td>45.00</td>\n",
       "    </tr>\n",
       "    <tr>\n",
       "      <th>usc000stdc</th>\n",
       "      <td>144km NE of Ndoi Island, Fiji</td>\n",
       "      <td>7.1</td>\n",
       "      <td>434.00</td>\n",
       "    </tr>\n",
       "    <tr>\n",
       "      <th>usb000sk6k</th>\n",
       "      <td>Southern East Pacific Rise</td>\n",
       "      <td>7.0</td>\n",
       "      <td>16.54</td>\n",
       "    </tr>\n",
       "    <tr>\n",
       "      <th>usc000mnvj</th>\n",
       "      <td>272km ESE of Hotan, China</td>\n",
       "      <td>6.9</td>\n",
       "      <td>10.00</td>\n",
       "    </tr>\n",
       "    <tr>\n",
       "      <th>usc000nzwm</th>\n",
       "      <td>91km WNW of Iquique, Chile</td>\n",
       "      <td>6.9</td>\n",
       "      <td>28.42</td>\n",
       "    </tr>\n",
       "    <tr>\n",
       "      <th>usb000r2hc</th>\n",
       "      <td>22km SSW of Kamariotissa, Greece</td>\n",
       "      <td>6.9</td>\n",
       "      <td>6.43</td>\n",
       "    </tr>\n",
       "    <tr>\n",
       "      <th>usc000rngj</th>\n",
       "      <td>154km NNW of Visokoi Island,</td>\n",
       "      <td>6.9</td>\n",
       "      <td>8.00</td>\n",
       "    </tr>\n",
       "    <tr>\n",
       "      <th>usc000rkg5</th>\n",
       "      <td>80km SSE of Raoul Island, New Zealand</td>\n",
       "      <td>6.9</td>\n",
       "      <td>20.00</td>\n",
       "    </tr>\n",
       "    <tr>\n",
       "      <th>usb000ruzk</th>\n",
       "      <td>99km NNE of Ndoi Island, Fiji</td>\n",
       "      <td>6.9</td>\n",
       "      <td>615.42</td>\n",
       "    </tr>\n",
       "    <tr>\n",
       "      <th>usc000rr6a</th>\n",
       "      <td>4km W of Puerto Madero, Mexico</td>\n",
       "      <td>6.9</td>\n",
       "      <td>53.00</td>\n",
       "    </tr>\n",
       "    <tr>\n",
       "      <th>usb000rzki</th>\n",
       "      <td>Federated States of Micronesia region</td>\n",
       "      <td>6.9</td>\n",
       "      <td>13.00</td>\n",
       "    </tr>\n",
       "  </tbody>\n",
       "</table>\n",
       "</div>"
      ],
      "text/plain": [
       "                                              place  mag   depth\n",
       "id                                                              \n",
       "usc000nzvd                94km NW of Iquique, Chile  8.2   25.00\n",
       "usc000rki5  19km SE of Little Sitkin Island, Alaska  7.9  109.00\n",
       "usc000p27i                53km SW of Iquique, Chile  7.7   22.40\n",
       "usc000phx5    93km SSE of Kirakira, Solomon Islands  7.6   22.56\n",
       "usb000pr89     70km SW of Panguna, Papua New Guinea  7.5   43.37\n",
       "usc000piqj     112km S of Kirakira, Solomon Islands  7.4   39.00\n",
       "usb000slwn          74km S of Intipuca, El Salvador  7.3   40.00\n",
       "usb000pq41             33km ESE of Petatlan, Mexico  7.2   24.00\n",
       "usc000pft9    56km WSW of Panguna, Papua New Guinea  7.1   60.53\n",
       "usc000sxh8      154km NW of Kota Ternate, Indonesia  7.1   45.00\n",
       "usc000stdc            144km NE of Ndoi Island, Fiji  7.1  434.00\n",
       "usb000sk6k               Southern East Pacific Rise  7.0   16.54\n",
       "usc000mnvj                272km ESE of Hotan, China  6.9   10.00\n",
       "usc000nzwm               91km WNW of Iquique, Chile  6.9   28.42\n",
       "usb000r2hc         22km SSW of Kamariotissa, Greece  6.9    6.43\n",
       "usc000rngj            154km NNW of Visokoi Island,   6.9    8.00\n",
       "usc000rkg5    80km SSE of Raoul Island, New Zealand  6.9   20.00\n",
       "usb000ruzk            99km NNE of Ndoi Island, Fiji  6.9  615.42\n",
       "usc000rr6a           4km W of Puerto Madero, Mexico  6.9   53.00\n",
       "usb000rzki    Federated States of Micronesia region  6.9   13.00"
      ]
     },
     "execution_count": 49,
     "metadata": {},
     "output_type": "execute_result"
    }
   ],
   "source": [
    "# View the dataframe\n",
    "top20_filtered"
   ]
  },
  {
   "cell_type": "markdown",
   "metadata": {
    "deletable": false,
    "editable": false
   },
   "source": [
    "<!-- BEGIN QUESTION -->\n",
    "\n",
    "# 9 \n",
    "\n",
    "Without creating any new variables, visualize the locations of eartquakes with magnitude greter than 5 by creating a scatter plot of their latitude and longitude. Make the following adjustments to the basic plot:\n",
    "- update the title\n",
    "- color the points by magnitude (HINT: [check the `c` parameter here](https://pandas.pydata.org/pandas-docs/stable/reference/api/pandas.DataFrame.plot.scatter.html))\n",
    "- adjust the `alpha` (transparency) argument\n",
    "- adjust the `colormap` argument to maket it look prettier. [Click for ideas of sequential colormaps.](https://matplotlib.org/stable/users/explain/colors/colormaps.html)\n"
   ]
  },
  {
   "cell_type": "code",
   "execution_count": 80,
   "metadata": {
    "tags": []
   },
   "outputs": [
    {
     "data": {
      "text/plain": [
       "<AxesSubplot:title={'center':'Global Locations of Earthquakes with Magnitude Greater That 5'}, xlabel='Longitude', ylabel='Latitude'>"
      ]
     },
     "execution_count": 80,
     "metadata": {},
     "output_type": "execute_result"
    },
    {
     "data": {
      "image/png": "[encoded data removed]",
      "text/plain": [
       "<Figure size 640x480 with 2 Axes>"
      ]
     },
     "metadata": {},
     "output_type": "display_data"
    }
   ],
   "source": [
    "eqk[eqk[\"mag\"] > 5].plot( # we can plot a subset just by chaining `.plot` to a subset\n",
    "        kind = \"scatter\", # scatterplot\n",
    "        x = \"longitude\",\n",
    "        y = \"latitude\",\n",
    "        c = \"mag\", # set magnitude to a color bar\n",
    "        title = \"Global Locations of Earthquakes with Magnitude Greater That 5\",\n",
    "        alpha = 0.5, # about half opacity\n",
    "        colormap = \"inferno\", # colormap part of the matplotlib collection, colorblind friendly\n",
    "        xlabel = \"Longitude\",\n",
    "        ylabel = \"Latitude\")"
   ]
  },
  {
   "cell_type": "markdown",
   "metadata": {
    "deletable": false,
    "editable": false
   },
   "source": [
    "<!-- END QUESTION -->\n",
    "\n"
   ]
  }
 ],
 "metadata": {
  "kernelspec": {
   "display_name": "Anaconda 3 (Base)",
   "language": "python",
   "name": "base"
  },
  "language_info": {
   "codemirror_mode": {
    "name": "ipython",
    "version": 3
   },
   "file_extension": ".py",
   "mimetype": "text/x-python",
   "name": "python",
   "nbconvert_exporter": "python",
   "pygments_lexer": "ipython3",
   "version": "3.9.13"
  },
  "vscode": {
   "interpreter": {
    "hash": "fd47fb98a7ce7f6a10c657f2a810bfb9d752313f8f3dd9c5b44bfbb724ce30e0"
   }
  }
 },
 "nbformat": 4,
 "nbformat_minor": 4
}
